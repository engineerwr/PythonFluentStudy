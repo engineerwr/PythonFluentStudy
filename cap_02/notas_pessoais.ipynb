{
 "cells": [
  {
   "cell_type": "markdown",
   "metadata": {},
   "source": [
    "List comprehensions:"
   ]
  },
  {
   "cell_type": "markdown",
   "metadata": {},
   "source": [
    "Usamos para gerar uma sequencia se a referencia for uma lista ou uma expressão geradora.\n",
    "Comparado com map ou filter, list comprehensions nao utiliza o limitado lambda."
   ]
  },
  {
   "cell_type": "markdown",
   "metadata": {},
   "source": [
    "Expressões geradoras"
   ]
  },
  {
   "cell_type": "markdown",
   "metadata": {},
   "source": [
    "Utiliza menos memoria que CompList."
   ]
  },
  {
   "cell_type": "markdown",
   "metadata": {},
   "source": [
    "Tuplas:"
   ]
  },
  {
   "cell_type": "markdown",
   "metadata": {},
   "source": [
    "Serve tambem como registro.\n",
    "Sao imutaveis.\n",
    "o operador de formatação \"%\" entende cada item da tupla como campo (exemplo 2.6)."
   ]
  },
  {
   "cell_type": "markdown",
   "metadata": {},
   "source": [
    "Item excedentes:"
   ]
  },
  {
   "cell_type": "markdown",
   "metadata": {},
   "source": [
    "Utilizar o \"*\" para capturar os item que pode exceder "
   ]
  },
  {
   "cell_type": "markdown",
   "metadata": {},
   "source": [
    "Fatiamento:"
   ]
  },
  {
   "cell_type": "markdown",
   "metadata": {},
   "source": [
    "a:b:c\n",
    "a = start\n",
    "b = stop\n",
    "c = step\n",
    "fatias podem ser usadas para alterar sequencias mutaveis in-place"
   ]
  },
  {
   "cell_type": "code",
   "execution_count": 2,
   "metadata": {},
   "outputs": [
    {
     "data": {
      "text/plain": [
       "[1, 2, 20, 30, 6, 7, 8, 9, 10]"
      ]
     },
     "execution_count": 2,
     "metadata": {},
     "output_type": "execute_result"
    }
   ],
   "source": [
    "#exemplo\n",
    "l = [1, 2, 3, 4, 5, 6, 7, 8, 9, 10]\n",
    "l[2:5] = [20, 30]\n",
    "l"
   ]
  },
  {
   "cell_type": "markdown",
   "metadata": {},
   "source": [
    "Importante:\n",
    "+= e *= vao dar erro caso o lado direito nao seja um iterator\n",
    "\n",
    "+= é equivalente a __iadd__\n",
    "*= é equiavaente a __imul__\n",
    "\n",
    "Liçoes para se levar:\n",
    "* Não colocar item imutaveis em tuplas\n",
    "* Atribuição combinada nao é uma operação atomica\n",
    "* Inspecionar bytecodes nao é dificil."
   ]
  },
  {
   "cell_type": "markdown",
   "metadata": {},
   "source": [
    "Sort e Sorted"
   ]
  },
  {
   "cell_type": "markdown",
   "metadata": {},
   "source": [
    "[].sort : ordena uma lista in-place\n",
    "\n",
    "Sorted([], key, reverse): retorna uma nova lista.\n",
    "\n",
    "key pode ser str, int, len, min, max e sera usado para ordenar de acordo com o atributo adicionado, por exemplo key=len, ele vai ordenar do menor item para o maior.\n",
    "\n",
    "reverse = caso seja True vai ser ordenado de forma decrescente."
   ]
  },
  {
   "cell_type": "markdown",
   "metadata": {},
   "source": [
    "Bisect"
   ]
  },
  {
   "cell_type": "markdown",
   "metadata": {},
   "source": [
    "Bisect(seq, item) faz uma busca binaria de item em seq e seq deve estar orndenada\n",
    "Bisect.insort(seq, item) inseri o item em seq e o mantem ordenado"
   ]
  },
  {
   "cell_type": "markdown",
   "metadata": {},
   "source": [
    "Array"
   ]
  },
  {
   "cell_type": "markdown",
   "metadata": {},
   "source": [
    "podemos utilizar array no lugar de lista quando nossos itens forem somente numeros\n",
    "* array.fromfile pode ser até 60 vezes mais rapido do que ler um arquivo de texto.\n",
    "* array.tofile pode ser ate 7 vezes mais rapido do que escrever um arquivo de texto."
   ]
  },
  {
   "cell_type": "markdown",
   "metadata": {},
   "source": [
    "MemoryView"
   ]
  },
  {
   "cell_type": "markdown",
   "metadata": {},
   "source": [
    "é uma estrutura de array NumPy generica que permite compartilhar memoria entre estruturas sem fazer uma copia inicial.\n",
    "memoryview.cast retorna outro mv compartilhado da mesma memoria."
   ]
  },
  {
   "cell_type": "markdown",
   "metadata": {},
   "source": [
    "Deques"
   ]
  },
  {
   "cell_type": "markdown",
   "metadata": {},
   "source": [
    "Collections.deque é uma fila dupla thread, criada para proporcionar inserção e remoção rapidas de ambas extremidades.\n",
    "Methods:\n",
    "    * rotate(int(sentido)) \n",
    "        sentido positivo= direita.\n",
    "        sentido negativo= esquerda.\n",
    "    * appdenleft()\n",
    "        adiciona a esquerda da fila\n",
    "    * extend()\n",
    "        adiciona a direita da fila\n",
    "    * extendleft()\n",
    "        adiciona a esquerda e de ordem inversa\n",
    "\n",
    "Desvantagem: tem dificuldade de remover item no meio da fila"
   ]
  },
  {
   "cell_type": "markdown",
   "metadata": {},
   "source": [
    "Outras bibliotecas de filas"
   ]
  },
  {
   "cell_type": "markdown",
   "metadata": {},
   "source": [
    "* queue\n",
    "* multiprocessing\n",
    "* asyncio\n",
    "* heapq"
   ]
  }
 ],
 "metadata": {
  "kernelspec": {
   "display_name": "Python 3.10.4 ('venv': venv)",
   "language": "python",
   "name": "python3"
  },
  "language_info": {
   "codemirror_mode": {
    "name": "ipython",
    "version": 3
   },
   "file_extension": ".py",
   "mimetype": "text/x-python",
   "name": "python",
   "nbconvert_exporter": "python",
   "pygments_lexer": "ipython3",
   "version": "3.10.4"
  },
  "orig_nbformat": 4,
  "vscode": {
   "interpreter": {
    "hash": "3c5b8876ca541c5b50b09c0644f119c0cc00c846d5bc1a2c4552433ecfc6f64e"
   }
  }
 },
 "nbformat": 4,
 "nbformat_minor": 2
}
